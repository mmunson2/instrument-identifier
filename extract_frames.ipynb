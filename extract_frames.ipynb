{
 "cells": [
  {
   "cell_type": "markdown",
   "metadata": {},
   "source": [
    "## Extract Frames"
   ]
  },
  {
   "cell_type": "code",
   "execution_count": 1,
   "metadata": {},
   "outputs": [],
   "source": [
    "import cv2\n",
    "import os"
   ]
  },
  {
   "cell_type": "markdown",
   "metadata": {},
   "source": [
    "## Extract Vertical Speed Indicator"
   ]
  },
  {
   "cell_type": "code",
   "execution_count": null,
   "metadata": {},
   "outputs": [],
   "source": [
    "input_file_path = 'demo_flight.mp4'\n",
    "\n",
    "start_x = 1062\n",
    "start_y = 650\n",
    "\n",
    "width = 125\n",
    "height = 120\n",
    "\n",
    "frame_directory = 'vertical_speed_frames/'"
   ]
  },
  {
   "cell_type": "markdown",
   "metadata": {},
   "source": [
    "## Extract Airspeed Indicator"
   ]
  },
  {
   "cell_type": "code",
   "execution_count": 18,
   "metadata": {},
   "outputs": [],
   "source": [
    "input_file_path = 'demo_flight.mp4'\n",
    "\n",
    "start_x = 750\n",
    "start_y = 770\n",
    "\n",
    "width = 120\n",
    "height = 110\n",
    "\n",
    "frame_directory = 'airspeed_frames/'"
   ]
  },
  {
   "cell_type": "markdown",
   "metadata": {},
   "source": [
    "## Extract Frames"
   ]
  },
  {
   "cell_type": "code",
   "execution_count": 19,
   "metadata": {},
   "outputs": [],
   "source": [
    "# Open the video file\n",
    "cap = cv2.VideoCapture(input_file_path)\n",
    "\n",
    "# Create a directory to store extracted frames\n",
    "\n",
    "os.makedirs(frame_directory, exist_ok=True)\n",
    "\n",
    "frame_count = 0\n",
    "\n",
    "while True:\n",
    "    ret, frame = cap.read()\n",
    "    if not ret:\n",
    "        break\n",
    "\n",
    "    # Crop the frame to focus on the vertical speed indicator\n",
    "    # Define the cropping coordinates (you may need to adjust these)\n",
    "    x, y, w, h = (start_x, start_y, width, height)  # Specify the cropping coordinates\n",
    "    cropped_frame = frame[y:y+h, x:x+w]\n",
    "\n",
    "    # Save the cropped frame as an image\n",
    "    frame_filename = f'{frame_directory}/frame_{frame_count:04d}.jpg'\n",
    "    cv2.imwrite(frame_filename, cropped_frame)\n",
    "\n",
    "    frame_count += 1\n",
    "\n",
    "cap.release()\n"
   ]
  }
 ],
 "metadata": {
  "kernelspec": {
   "display_name": "base",
   "language": "python",
   "name": "python3"
  },
  "language_info": {
   "codemirror_mode": {
    "name": "ipython",
    "version": 3
   },
   "file_extension": ".py",
   "mimetype": "text/x-python",
   "name": "python",
   "nbconvert_exporter": "python",
   "pygments_lexer": "ipython3",
   "version": "3.10.9"
  },
  "orig_nbformat": 4
 },
 "nbformat": 4,
 "nbformat_minor": 2
}
