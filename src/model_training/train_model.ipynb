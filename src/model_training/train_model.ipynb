{
 "cells": [
  {
   "cell_type": "markdown",
   "metadata": {},
   "source": [
    "## Train Instrument Identification Model"
   ]
  },
  {
   "cell_type": "markdown",
   "metadata": {},
   "source": [
    "## Imports"
   ]
  },
  {
   "cell_type": "code",
   "execution_count": 1,
   "metadata": {},
   "outputs": [],
   "source": [
    "import tensorflow as tf\n",
    "from tensorflow import keras\n",
    "from tensorflow.keras import layers\n",
    "import pandas as pd\n",
    "import os\n",
    "import cv2\n",
    "import numpy as np\n",
    "from sklearn.preprocessing import LabelEncoder\n",
    "from sklearn.model_selection import train_test_split"
   ]
  },
  {
   "cell_type": "markdown",
   "metadata": {},
   "source": [
    "## Load Training CSV File\n",
    "\n",
    "Displays dataframe for verification purposes."
   ]
  },
  {
   "cell_type": "code",
   "execution_count": 2,
   "metadata": {},
   "outputs": [
    {
     "data": {
      "text/html": [
       "<div>\n",
       "<style scoped>\n",
       "    .dataframe tbody tr th:only-of-type {\n",
       "        vertical-align: middle;\n",
       "    }\n",
       "\n",
       "    .dataframe tbody tr th {\n",
       "        vertical-align: top;\n",
       "    }\n",
       "\n",
       "    .dataframe thead th {\n",
       "        text-align: right;\n",
       "    }\n",
       "</style>\n",
       "<table border=\"1\" class=\"dataframe\">\n",
       "  <thead>\n",
       "    <tr style=\"text-align: right;\">\n",
       "      <th></th>\n",
       "      <th>image_path</th>\n",
       "      <th>attitude</th>\n",
       "    </tr>\n",
       "  </thead>\n",
       "  <tbody>\n",
       "    <tr>\n",
       "      <th>0</th>\n",
       "      <td>../../media/attitude_training_1/attitude_train...</td>\n",
       "      <td>0.0</td>\n",
       "    </tr>\n",
       "    <tr>\n",
       "      <th>1</th>\n",
       "      <td>../../media/attitude_training_1/attitude_train...</td>\n",
       "      <td>0.0</td>\n",
       "    </tr>\n",
       "    <tr>\n",
       "      <th>2</th>\n",
       "      <td>../../media/attitude_training_1/attitude_train...</td>\n",
       "      <td>0.0</td>\n",
       "    </tr>\n",
       "    <tr>\n",
       "      <th>3</th>\n",
       "      <td>../../media/attitude_training_1/attitude_train...</td>\n",
       "      <td>0.0</td>\n",
       "    </tr>\n",
       "    <tr>\n",
       "      <th>4</th>\n",
       "      <td>../../media/attitude_training_1/attitude_train...</td>\n",
       "      <td>0.0</td>\n",
       "    </tr>\n",
       "    <tr>\n",
       "      <th>...</th>\n",
       "      <td>...</td>\n",
       "      <td>...</td>\n",
       "    </tr>\n",
       "    <tr>\n",
       "      <th>17377</th>\n",
       "      <td>../../media/attitude_training_1/attitude_train...</td>\n",
       "      <td>0.5</td>\n",
       "    </tr>\n",
       "    <tr>\n",
       "      <th>17378</th>\n",
       "      <td>../../media/attitude_training_1/attitude_train...</td>\n",
       "      <td>0.5</td>\n",
       "    </tr>\n",
       "    <tr>\n",
       "      <th>17379</th>\n",
       "      <td>../../media/attitude_training_1/attitude_train...</td>\n",
       "      <td>0.5</td>\n",
       "    </tr>\n",
       "    <tr>\n",
       "      <th>17380</th>\n",
       "      <td>../../media/attitude_training_1/attitude_train...</td>\n",
       "      <td>0.5</td>\n",
       "    </tr>\n",
       "    <tr>\n",
       "      <th>17381</th>\n",
       "      <td>../../media/attitude_training_1/attitude_train...</td>\n",
       "      <td>0.5</td>\n",
       "    </tr>\n",
       "  </tbody>\n",
       "</table>\n",
       "<p>17382 rows × 2 columns</p>\n",
       "</div>"
      ],
      "text/plain": [
       "                                              image_path  attitude\n",
       "0      ../../media/attitude_training_1/attitude_train...       0.0\n",
       "1      ../../media/attitude_training_1/attitude_train...       0.0\n",
       "2      ../../media/attitude_training_1/attitude_train...       0.0\n",
       "3      ../../media/attitude_training_1/attitude_train...       0.0\n",
       "4      ../../media/attitude_training_1/attitude_train...       0.0\n",
       "...                                                  ...       ...\n",
       "17377  ../../media/attitude_training_1/attitude_train...       0.5\n",
       "17378  ../../media/attitude_training_1/attitude_train...       0.5\n",
       "17379  ../../media/attitude_training_1/attitude_train...       0.5\n",
       "17380  ../../media/attitude_training_1/attitude_train...       0.5\n",
       "17381  ../../media/attitude_training_1/attitude_train...       0.5\n",
       "\n",
       "[17382 rows x 2 columns]"
      ]
     },
     "execution_count": 2,
     "metadata": {},
     "output_type": "execute_result"
    }
   ],
   "source": [
    "# Load the training CSV file\n",
    "csv_file = '../../image_labels/attitude_labels/attitude_training_1.csv'\n",
    "training_df = pd.read_csv(csv_file)\n",
    "\n",
    "image_directory = '../../media/attitude_training_1/'\n",
    "training_df['image_path'] = training_df['image_path'].apply(lambda x: os.path.join(image_directory, x))\n",
    "\n",
    "training_df"
   ]
  },
  {
   "cell_type": "markdown",
   "metadata": {},
   "source": [
    "## Helper Function - Load Image"
   ]
  },
  {
   "cell_type": "code",
   "execution_count": 3,
   "metadata": {},
   "outputs": [],
   "source": [
    "def load_image(file_path):\n",
    "    image = cv2.imread(file_path)\n",
    "\n",
    "    image = image / 255.0  # Normalize pixel values to [0, 1]\n",
    "    return image"
   ]
  },
  {
   "cell_type": "markdown",
   "metadata": {},
   "source": [
    "## Load Images and apply labels from CSV"
   ]
  },
  {
   "cell_type": "code",
   "execution_count": 4,
   "metadata": {},
   "outputs": [],
   "source": [
    "# Load images into a NumPy array\n",
    "images = np.array([load_image(file_path) for file_path in training_df['image_path']])\n",
    "\n",
    "target_column_name = 'attitude'\n",
    "\n",
    "label_encoder = LabelEncoder()\n",
    "encoded_labels = label_encoder.fit_transform(training_df[target_column_name])\n",
    "\n",
    "# Optionally, one-hot encode the labels (if using categorical cross-entropy)\n",
    "num_classes = len(label_encoder.classes_)\n",
    "one_hot_labels = tf.keras.utils.to_categorical(encoded_labels, num_classes)\n",
    "\n",
    "\n",
    "# Split the dataset into training and validation sets\n",
    "X_train, X_val, y_train, y_val = train_test_split(images, one_hot_labels, test_size=0.2, random_state=42)"
   ]
  },
  {
   "cell_type": "markdown",
   "metadata": {},
   "source": [
    "\n",
    "\n"
   ]
  },
  {
   "cell_type": "markdown",
   "metadata": {},
   "source": [
    "## Execute - Run Training Model"
   ]
  },
  {
   "cell_type": "code",
   "execution_count": 5,
   "metadata": {},
   "outputs": [
    {
     "name": "stdout",
     "output_type": "stream",
     "text": [
      "Epoch 1/5\n",
      "435/435 [==============================] - 98s 225ms/step - loss: 1.6452 - accuracy: 0.5356 - val_loss: 0.6048 - val_accuracy: 0.8145\n",
      "Epoch 2/5\n",
      "435/435 [==============================] - 83s 191ms/step - loss: 0.4194 - accuracy: 0.8637 - val_loss: 0.4042 - val_accuracy: 0.8729\n",
      "Epoch 3/5\n",
      "435/435 [==============================] - 84s 192ms/step - loss: 0.2657 - accuracy: 0.9100 - val_loss: 0.3830 - val_accuracy: 0.8766\n",
      "Epoch 4/5\n",
      "435/435 [==============================] - 84s 193ms/step - loss: 0.2010 - accuracy: 0.9289 - val_loss: 0.3679 - val_accuracy: 0.8867\n",
      "Epoch 5/5\n",
      "435/435 [==============================] - 85s 195ms/step - loss: 0.1721 - accuracy: 0.9376 - val_loss: 0.3169 - val_accuracy: 0.9005\n"
     ]
    },
    {
     "name": "stderr",
     "output_type": "stream",
     "text": [
      "/opt/homebrew/anaconda3/lib/python3.10/site-packages/keras/src/engine/training.py:3079: UserWarning: You are saving your model as an HDF5 file via `model.save()`. This file format is considered legacy. We recommend using instead the native Keras format, e.g. `model.save('my_model.keras')`.\n",
      "  saving_api.save_model(\n"
     ]
    }
   ],
   "source": [
    "model = keras.Sequential([\n",
    "    layers.Conv2D(32, (3, 3), activation='relu', input_shape=(200, 205, 3)),\n",
    "    layers.MaxPooling2D((2, 2)),\n",
    "    layers.Conv2D(64, (3, 3), activation='relu'),\n",
    "    layers.MaxPooling2D((2, 2)),\n",
    "    layers.Flatten(),\n",
    "    layers.Dense(128, activation='relu'),\n",
    "    layers.Dense(num_classes, activation='softmax')\n",
    "])\n",
    "\n",
    "model.compile(optimizer='adam',\n",
    "              loss='categorical_crossentropy',\n",
    "              metrics=['accuracy'])\n",
    "\n",
    "# Load and preprocess your dataset\n",
    "# You can use TensorFlow's `ImageDataGenerator` for data augmentation and preprocessing.\n",
    "\n",
    "# Train the model\n",
    "model.fit(X_train, y_train, epochs=5, validation_data=(X_val, y_val))\n",
    "\n",
    "# Save the trained model\n",
    "model.save('attitude_final_5_epoch.h5')"
   ]
  }
 ],
 "metadata": {
  "kernelspec": {
   "display_name": "base",
   "language": "python",
   "name": "python3"
  },
  "language_info": {
   "codemirror_mode": {
    "name": "ipython",
    "version": 3
   },
   "file_extension": ".py",
   "mimetype": "text/x-python",
   "name": "python",
   "nbconvert_exporter": "python",
   "pygments_lexer": "ipython3",
   "version": "3.10.9"
  },
  "orig_nbformat": 4
 },
 "nbformat": 4,
 "nbformat_minor": 2
}
