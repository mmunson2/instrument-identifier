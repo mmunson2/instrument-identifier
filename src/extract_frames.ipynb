{
 "cells": [
  {
   "cell_type": "markdown",
   "metadata": {},
   "source": [
    "## Extract Frames"
   ]
  },
  {
   "cell_type": "code",
   "execution_count": 1,
   "metadata": {},
   "outputs": [],
   "source": [
    "import cv2\n",
    "import os"
   ]
  },
  {
   "cell_type": "markdown",
   "metadata": {},
   "source": [
    "## Extract Frames"
   ]
  },
  {
   "cell_type": "code",
   "execution_count": 2,
   "metadata": {},
   "outputs": [],
   "source": [
    "def extract_frames(video_path, frame_directory, file_prefix, crop_dimensions=None, limit=None):\n",
    "\n",
    "    # Open the video file\n",
    "    cap = cv2.VideoCapture(video_path)\n",
    "\n",
    "    # Create a directory to store extracted frames\n",
    "\n",
    "    os.makedirs(frame_directory, exist_ok=True)\n",
    "\n",
    "    frame_count = 0\n",
    "\n",
    "    while True:\n",
    "        ret, frame = cap.read()\n",
    "        if not ret:\n",
    "            break\n",
    "\n",
    "        if crop_dimensions:\n",
    "            # Crop the frame to focus on the vertical speed indicator\n",
    "            # Define the cropping coordinates (you may need to adjust these)\n",
    "            x, y, w, h = (crop_dimensions['x'], crop_dimensions['y'], crop_dimensions['width'], crop_dimensions['height']) \n",
    "            cropped_frame = frame[y:y+h, x:x+w]\n",
    "        else:\n",
    "            cropped_frame = frame\n",
    "\n",
    "        # Save the cropped frame as an image\n",
    "        frame_filename = f'{frame_directory}/{file_prefix}_{frame_count:04d}.jpg'\n",
    "        cv2.imwrite(frame_filename, cropped_frame)\n",
    "\n",
    "        frame_count += 1\n",
    "\n",
    "        if limit and frame_count >= limit:\n",
    "            break\n",
    "\n",
    "    cap.release()\n",
    "\n",
    "    print(\"Done!\")"
   ]
  },
  {
   "cell_type": "markdown",
   "metadata": {},
   "source": [
    "## Extract Vertical Speed Indicator"
   ]
  },
  {
   "cell_type": "code",
   "execution_count": 3,
   "metadata": {},
   "outputs": [
    {
     "name": "stdout",
     "output_type": "stream",
     "text": [
      "Done!\n"
     ]
    }
   ],
   "source": [
    "input_file_path = '../media/input_video/night_fixed_A10C.mp4'\n",
    "\n",
    "start_x = 1062\n",
    "start_y = 650\n",
    "\n",
    "width = 125\n",
    "height = 120\n",
    "\n",
    "file_prefix = 'night_fixed_A10C_validation_VS'\n",
    "\n",
    "frame_directory = '../media/night_fixed_A10C_validation_VS/'\n",
    "\n",
    "crop_dimensions = {\"x\": start_x, \"y\": start_y, \"width\": width, \"height\": height}\n",
    "limit = None\n",
    "\n",
    "extract_frames(input_file_path, frame_directory, file_prefix, crop_dimensions, limit)"
   ]
  },
  {
   "cell_type": "markdown",
   "metadata": {},
   "source": [
    "## Extract Airspeed Indicator"
   ]
  },
  {
   "cell_type": "code",
   "execution_count": 4,
   "metadata": {},
   "outputs": [
    {
     "name": "stdout",
     "output_type": "stream",
     "text": [
      "Done!\n"
     ]
    }
   ],
   "source": [
    "input_file_path = '../media/input_video/night_fixed_A10C.mp4'\n",
    "\n",
    "start_x = 750\n",
    "start_y = 770\n",
    "\n",
    "width = 120\n",
    "height = 110\n",
    "\n",
    "file_prefix = 'night_fixed_A10C_validation_airspeed'\n",
    "\n",
    "frame_directory = '../media/night_fixed_A10C_validation_airspeed/'\n",
    "\n",
    "crop_dimensions = {\"x\": start_x, \"y\": start_y, \"width\": width, \"height\": height}\n",
    "limit = None\n",
    "\n",
    "extract_frames(input_file_path, frame_directory, file_prefix, crop_dimensions, limit)"
   ]
  },
  {
   "cell_type": "markdown",
   "metadata": {},
   "source": [
    "## Extract Entire Cockpit"
   ]
  },
  {
   "cell_type": "code",
   "execution_count": 8,
   "metadata": {},
   "outputs": [
    {
     "name": "stdout",
     "output_type": "stream",
     "text": [
      "Done!\n"
     ]
    }
   ],
   "source": [
    "input_file_path = 'media/input_video/daytime_fixed_A10C2.mp4'\n",
    "\n",
    "file_prefix = 'daytime_fixed_A10C2'\n",
    "\n",
    "frame_directory = 'media/full_cockpit_frames/'\n",
    "\n",
    "crop_dimensions = None\n",
    "limit = 1\n",
    "\n",
    "extract_frames(input_file_path, frame_directory, file_prefix, crop_dimensions, limit)"
   ]
  }
 ],
 "metadata": {
  "kernelspec": {
   "display_name": "base",
   "language": "python",
   "name": "python3"
  },
  "language_info": {
   "codemirror_mode": {
    "name": "ipython",
    "version": 3
   },
   "file_extension": ".py",
   "mimetype": "text/x-python",
   "name": "python",
   "nbconvert_exporter": "python",
   "pygments_lexer": "ipython3",
   "version": "3.10.9"
  },
  "orig_nbformat": 4
 },
 "nbformat": 4,
 "nbformat_minor": 2
}
