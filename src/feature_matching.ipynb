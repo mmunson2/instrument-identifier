{
 "cells": [
  {
   "cell_type": "markdown",
   "metadata": {},
   "source": [
    "## Feature Matching Experiment\n",
    "\n",
    "I attempted to use feature matching to identify an instrument from an image of a full cockpit. However this doesn't yield very good results, I believe this is because many of the cockpit instruments have similar features."
   ]
  },
  {
   "cell_type": "code",
   "execution_count": 3,
   "metadata": {},
   "outputs": [
    {
     "name": "stderr",
     "output_type": "stream",
     "text": [
      "[ WARN:0@42.208] global loadsave.cpp:248 findDecoder imread_('../media/full_cockpit_frames/daytime_fixed_A10C2_0000.jpg'): can't open/read file: check file path/integrity\n"
     ]
    },
    {
     "ename": "error",
     "evalue": "OpenCV(4.8.1) /Users/xperience/GHA-OpenCV-Python/_work/opencv-python/opencv-python/opencv/modules/core/src/batch_distance.cpp:275: error: (-215:Assertion failed) type == src2.type() && src1.cols == src2.cols && (type == CV_32F || type == CV_8U) in function 'batchDistance'\n",
     "output_type": "error",
     "traceback": [
      "\u001b[0;31m---------------------------------------------------------------------------\u001b[0m",
      "\u001b[0;31merror\u001b[0m                                     Traceback (most recent call last)",
      "\u001b[1;32m/Users/matthewmunson/Documents/GitHub/instrument-identifier/src/feature_matching.ipynb Cell 2\u001b[0m line \u001b[0;36m2\n\u001b[1;32m     <a href='vscode-notebook-cell:/Users/matthewmunson/Documents/GitHub/instrument-identifier/src/feature_matching.ipynb#W1sZmlsZQ%3D%3D?line=23'>24</a>\u001b[0m bf \u001b[39m=\u001b[39m cv2\u001b[39m.\u001b[39mBFMatcher(cv2\u001b[39m.\u001b[39mNORM_HAMMING, crossCheck\u001b[39m=\u001b[39m\u001b[39mTrue\u001b[39;00m)\n\u001b[1;32m     <a href='vscode-notebook-cell:/Users/matthewmunson/Documents/GitHub/instrument-identifier/src/feature_matching.ipynb#W1sZmlsZQ%3D%3D?line=25'>26</a>\u001b[0m \u001b[39m# Match the descriptors\u001b[39;00m\n\u001b[0;32m---> <a href='vscode-notebook-cell:/Users/matthewmunson/Documents/GitHub/instrument-identifier/src/feature_matching.ipynb#W1sZmlsZQ%3D%3D?line=26'>27</a>\u001b[0m matches \u001b[39m=\u001b[39m bf\u001b[39m.\u001b[39;49mmatch(des1, des2)\n\u001b[1;32m     <a href='vscode-notebook-cell:/Users/matthewmunson/Documents/GitHub/instrument-identifier/src/feature_matching.ipynb#W1sZmlsZQ%3D%3D?line=28'>29</a>\u001b[0m \u001b[39m# Sort the matches by distance\u001b[39;00m\n\u001b[1;32m     <a href='vscode-notebook-cell:/Users/matthewmunson/Documents/GitHub/instrument-identifier/src/feature_matching.ipynb#W1sZmlsZQ%3D%3D?line=29'>30</a>\u001b[0m matches \u001b[39m=\u001b[39m \u001b[39msorted\u001b[39m(matches, key\u001b[39m=\u001b[39m\u001b[39mlambda\u001b[39;00m x: x\u001b[39m.\u001b[39mdistance)\n",
      "\u001b[0;31merror\u001b[0m: OpenCV(4.8.1) /Users/xperience/GHA-OpenCV-Python/_work/opencv-python/opencv-python/opencv/modules/core/src/batch_distance.cpp:275: error: (-215:Assertion failed) type == src2.type() && src1.cols == src2.cols && (type == CV_32F || type == CV_8U) in function 'batchDistance'\n"
     ]
    }
   ],
   "source": [
    "import cv2\n",
    "\n",
    "# Hacky means of making sure we don't go into infinite loop\n",
    "def exit_application():\n",
    "    cv2.destroyAllWindows()\n",
    "    cv2.waitKey(1)\n",
    "    cv2.waitKey(1)\n",
    "    cv2.waitKey(1)\n",
    "\n",
    "# Load the cockpit image\n",
    "cockpit_image = cv2.imread('../media/full_cockpit_frames/daytime_fixed_A10C2_0000.jpg', cv2.IMREAD_COLOR)\n",
    "\n",
    "# Load the instrument image you want to recognize\n",
    "instrument_image = cv2.imread('../media/vertical_speed_frames/frame_0000.jpg', cv2.IMREAD_COLOR)\n",
    "\n",
    "# Initialize the ORB detector\n",
    "orb = cv2.ORB_create()\n",
    "\n",
    "# Find the keypoints and descriptors in both images\n",
    "kp1, des1 = orb.detectAndCompute(instrument_image, None)\n",
    "kp2, des2 = orb.detectAndCompute(cockpit_image, None)\n",
    "\n",
    "# Create a Brute Force Matcher\n",
    "bf = cv2.BFMatcher(cv2.NORM_HAMMING, crossCheck=True)\n",
    "\n",
    "# Match the descriptors\n",
    "matches = bf.match(des1, des2)\n",
    "\n",
    "# Sort the matches by distance\n",
    "matches = sorted(matches, key=lambda x: x.distance)\n",
    "\n",
    "# good_matches = [match for match in matches if match.distance < 50]\n",
    "\n",
    "# matches = good_matches\n",
    "\n",
    "# Draw the first 'n' matches (adjust 'n' as needed)\n",
    "n = 50\n",
    "match_img = cv2.drawMatches(instrument_image, kp1, cockpit_image, kp2, matches[:n], outImg=None)\n",
    "\n",
    "# Display the matched result\n",
    "cv2.imshow('Feature Matches', match_img)\n",
    "cv2.waitKey(0)\n",
    "cv2.destroyAllWindows()\n",
    "\n",
    "exit_application()\n"
   ]
  }
 ],
 "metadata": {
  "kernelspec": {
   "display_name": "base",
   "language": "python",
   "name": "python3"
  },
  "language_info": {
   "codemirror_mode": {
    "name": "ipython",
    "version": 3
   },
   "file_extension": ".py",
   "mimetype": "text/x-python",
   "name": "python",
   "nbconvert_exporter": "python",
   "pygments_lexer": "ipython3",
   "version": "3.10.9"
  }
 },
 "nbformat": 4,
 "nbformat_minor": 2
}
