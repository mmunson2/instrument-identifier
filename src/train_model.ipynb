{
 "cells": [
  {
   "cell_type": "markdown",
   "metadata": {},
   "source": [
    "## Deep Learning Prototype"
   ]
  },
  {
   "cell_type": "markdown",
   "metadata": {},
   "source": [
    "## Imports"
   ]
  },
  {
   "cell_type": "code",
   "execution_count": 1,
   "metadata": {},
   "outputs": [],
   "source": [
    "import tensorflow as tf\n",
    "from tensorflow import keras\n",
    "from tensorflow.keras import layers\n",
    "import pandas as pd\n",
    "import os\n",
    "import cv2\n",
    "import numpy as np\n",
    "from sklearn.preprocessing import LabelEncoder\n",
    "from sklearn.model_selection import train_test_split"
   ]
  },
  {
   "cell_type": "markdown",
   "metadata": {},
   "source": [
    "## Load Training CSV File\n",
    "\n",
    "Displays dataframe for verification purposes."
   ]
  },
  {
   "cell_type": "code",
   "execution_count": 2,
   "metadata": {},
   "outputs": [
    {
     "data": {
      "text/html": [
       "<div>\n",
       "<style scoped>\n",
       "    .dataframe tbody tr th:only-of-type {\n",
       "        vertical-align: middle;\n",
       "    }\n",
       "\n",
       "    .dataframe tbody tr th {\n",
       "        vertical-align: top;\n",
       "    }\n",
       "\n",
       "    .dataframe thead th {\n",
       "        text-align: right;\n",
       "    }\n",
       "</style>\n",
       "<table border=\"1\" class=\"dataframe\">\n",
       "  <thead>\n",
       "    <tr style=\"text-align: right;\">\n",
       "      <th></th>\n",
       "      <th>image_path</th>\n",
       "      <th>airspeed</th>\n",
       "    </tr>\n",
       "  </thead>\n",
       "  <tbody>\n",
       "    <tr>\n",
       "      <th>0</th>\n",
       "      <td>airspeed_frames/dive_fixed_A10C_0000.jpg</td>\n",
       "      <td>190</td>\n",
       "    </tr>\n",
       "    <tr>\n",
       "      <th>1</th>\n",
       "      <td>airspeed_frames/dive_fixed_A10C_0001.jpg</td>\n",
       "      <td>190</td>\n",
       "    </tr>\n",
       "    <tr>\n",
       "      <th>2</th>\n",
       "      <td>airspeed_frames/dive_fixed_A10C_0002.jpg</td>\n",
       "      <td>190</td>\n",
       "    </tr>\n",
       "    <tr>\n",
       "      <th>3</th>\n",
       "      <td>airspeed_frames/dive_fixed_A10C_0003.jpg</td>\n",
       "      <td>190</td>\n",
       "    </tr>\n",
       "    <tr>\n",
       "      <th>4</th>\n",
       "      <td>airspeed_frames/dive_fixed_A10C_0004.jpg</td>\n",
       "      <td>190</td>\n",
       "    </tr>\n",
       "    <tr>\n",
       "      <th>...</th>\n",
       "      <td>...</td>\n",
       "      <td>...</td>\n",
       "    </tr>\n",
       "    <tr>\n",
       "      <th>3482</th>\n",
       "      <td>airspeed_frames/takeoff_fixed_A10C_1591.jpg</td>\n",
       "      <td>190</td>\n",
       "    </tr>\n",
       "    <tr>\n",
       "      <th>3483</th>\n",
       "      <td>airspeed_frames/takeoff_fixed_A10C_1592.jpg</td>\n",
       "      <td>190</td>\n",
       "    </tr>\n",
       "    <tr>\n",
       "      <th>3484</th>\n",
       "      <td>airspeed_frames/takeoff_fixed_A10C_1593.jpg</td>\n",
       "      <td>190</td>\n",
       "    </tr>\n",
       "    <tr>\n",
       "      <th>3485</th>\n",
       "      <td>airspeed_frames/takeoff_fixed_A10C_1594.jpg</td>\n",
       "      <td>190</td>\n",
       "    </tr>\n",
       "    <tr>\n",
       "      <th>3486</th>\n",
       "      <td>airspeed_frames/takeoff_fixed_A10C_1595.jpg</td>\n",
       "      <td>190</td>\n",
       "    </tr>\n",
       "  </tbody>\n",
       "</table>\n",
       "<p>3487 rows × 2 columns</p>\n",
       "</div>"
      ],
      "text/plain": [
       "                                       image_path  airspeed\n",
       "0        airspeed_frames/dive_fixed_A10C_0000.jpg       190\n",
       "1        airspeed_frames/dive_fixed_A10C_0001.jpg       190\n",
       "2        airspeed_frames/dive_fixed_A10C_0002.jpg       190\n",
       "3        airspeed_frames/dive_fixed_A10C_0003.jpg       190\n",
       "4        airspeed_frames/dive_fixed_A10C_0004.jpg       190\n",
       "...                                           ...       ...\n",
       "3482  airspeed_frames/takeoff_fixed_A10C_1591.jpg       190\n",
       "3483  airspeed_frames/takeoff_fixed_A10C_1592.jpg       190\n",
       "3484  airspeed_frames/takeoff_fixed_A10C_1593.jpg       190\n",
       "3485  airspeed_frames/takeoff_fixed_A10C_1594.jpg       190\n",
       "3486  airspeed_frames/takeoff_fixed_A10C_1595.jpg       190\n",
       "\n",
       "[3487 rows x 2 columns]"
      ]
     },
     "execution_count": 2,
     "metadata": {},
     "output_type": "execute_result"
    }
   ],
   "source": [
    "# Load the training CSV file\n",
    "csv_file = 'image_labels/airspeed_labels.csv'\n",
    "training_df = pd.read_csv(csv_file)\n",
    "\n",
    "image_directory = 'media/airspeed_frames'\n",
    "training_df['image_path'] = training_df['image_path'].apply(lambda x: os.path.join(image_directory, x))\n",
    "\n",
    "training_df\n"
   ]
  },
  {
   "cell_type": "markdown",
   "metadata": {},
   "source": [
    "## Helper Function - Load Image"
   ]
  },
  {
   "cell_type": "code",
   "execution_count": 3,
   "metadata": {},
   "outputs": [],
   "source": [
    "def load_image(file_path):\n",
    "    image = cv2.imread(file_path)\n",
    "\n",
    "    image = image / 255.0  # Normalize pixel values to [0, 1]\n",
    "    return image"
   ]
  },
  {
   "cell_type": "markdown",
   "metadata": {},
   "source": [
    "## Load Images and apply labels from CSV"
   ]
  },
  {
   "cell_type": "code",
   "execution_count": 5,
   "metadata": {},
   "outputs": [],
   "source": [
    "# Load images into a NumPy array\n",
    "images = np.array([load_image(file_path) for file_path in training_df['image_path']])\n",
    "\n",
    "\n",
    "# Encode the labels (assuming 'vertical_speed' is the column containing labels)\n",
    "label_encoder = LabelEncoder()\n",
    "encoded_labels = label_encoder.fit_transform(training_df['airspeed'])\n",
    "\n",
    "# Optionally, one-hot encode the labels (if using categorical cross-entropy)\n",
    "num_classes = len(label_encoder.classes_)\n",
    "one_hot_labels = tf.keras.utils.to_categorical(encoded_labels, num_classes)\n",
    "\n",
    "\n",
    "# Split the dataset into training and validation sets\n",
    "X_train, X_val, y_train, y_val = train_test_split(images, one_hot_labels, test_size=0.2, random_state=42)"
   ]
  },
  {
   "cell_type": "markdown",
   "metadata": {},
   "source": [
    "## Epoch Notes\n",
    "\n",
    "Best for airspeed - Epoch 13"
   ]
  },
  {
   "cell_type": "markdown",
   "metadata": {},
   "source": [
    "## Execute - Run Training Model"
   ]
  },
  {
   "cell_type": "code",
   "execution_count": 7,
   "metadata": {},
   "outputs": [
    {
     "name": "stdout",
     "output_type": "stream",
     "text": [
      "Epoch 1/20\n",
      "88/88 [==============================] - 6s 63ms/step - loss: 1.7384 - accuracy: 0.5324 - val_loss: 0.5411 - val_accuracy: 0.8138\n",
      "Epoch 2/20\n",
      "88/88 [==============================] - 6s 64ms/step - loss: 0.3866 - accuracy: 0.8670 - val_loss: 0.3470 - val_accuracy: 0.8711\n",
      "Epoch 3/20\n",
      "88/88 [==============================] - 6s 64ms/step - loss: 0.2469 - accuracy: 0.9114 - val_loss: 0.2115 - val_accuracy: 0.9298\n",
      "Epoch 4/20\n",
      "88/88 [==============================] - 6s 65ms/step - loss: 0.1958 - accuracy: 0.9319 - val_loss: 0.1733 - val_accuracy: 0.9484\n",
      "Epoch 5/20\n",
      "88/88 [==============================] - 6s 65ms/step - loss: 0.1655 - accuracy: 0.9347 - val_loss: 0.1900 - val_accuracy: 0.9384\n",
      "Epoch 6/20\n",
      "88/88 [==============================] - 6s 65ms/step - loss: 0.1699 - accuracy: 0.9369 - val_loss: 0.1448 - val_accuracy: 0.9456\n",
      "Epoch 7/20\n",
      "88/88 [==============================] - 6s 66ms/step - loss: 0.1194 - accuracy: 0.9573 - val_loss: 0.1231 - val_accuracy: 0.9484\n",
      "Epoch 8/20\n",
      "88/88 [==============================] - 6s 67ms/step - loss: 0.1058 - accuracy: 0.9595 - val_loss: 0.1344 - val_accuracy: 0.9513\n",
      "Epoch 9/20\n",
      "88/88 [==============================] - 6s 66ms/step - loss: 0.0941 - accuracy: 0.9641 - val_loss: 0.1055 - val_accuracy: 0.9599\n",
      "Epoch 10/20\n",
      "88/88 [==============================] - 6s 67ms/step - loss: 0.1008 - accuracy: 0.9627 - val_loss: 0.1188 - val_accuracy: 0.9513\n",
      "Epoch 11/20\n",
      "88/88 [==============================] - 6s 68ms/step - loss: 0.0828 - accuracy: 0.9670 - val_loss: 0.1012 - val_accuracy: 0.9613\n",
      "Epoch 12/20\n",
      "88/88 [==============================] - 6s 68ms/step - loss: 0.0722 - accuracy: 0.9742 - val_loss: 0.1447 - val_accuracy: 0.9441\n",
      "Epoch 13/20\n",
      "88/88 [==============================] - 6s 67ms/step - loss: 0.0805 - accuracy: 0.9659 - val_loss: 0.0969 - val_accuracy: 0.9613\n",
      "Epoch 14/20\n",
      "88/88 [==============================] - 6s 68ms/step - loss: 0.0636 - accuracy: 0.9724 - val_loss: 0.1225 - val_accuracy: 0.9542\n",
      "Epoch 15/20\n",
      "88/88 [==============================] - 6s 68ms/step - loss: 0.0675 - accuracy: 0.9760 - val_loss: 0.0815 - val_accuracy: 0.9742\n",
      "Epoch 16/20\n",
      "88/88 [==============================] - 6s 68ms/step - loss: 0.0621 - accuracy: 0.9763 - val_loss: 0.1181 - val_accuracy: 0.9499\n",
      "Epoch 17/20\n",
      "88/88 [==============================] - 6s 68ms/step - loss: 0.0522 - accuracy: 0.9799 - val_loss: 0.1023 - val_accuracy: 0.9585\n",
      "Epoch 18/20\n",
      "88/88 [==============================] - 6s 68ms/step - loss: 0.0515 - accuracy: 0.9806 - val_loss: 0.0868 - val_accuracy: 0.9599\n",
      "Epoch 19/20\n",
      "88/88 [==============================] - 6s 68ms/step - loss: 0.0365 - accuracy: 0.9839 - val_loss: 0.0851 - val_accuracy: 0.9628\n",
      "Epoch 20/20\n",
      "88/88 [==============================] - 6s 67ms/step - loss: 0.0389 - accuracy: 0.9860 - val_loss: 0.1105 - val_accuracy: 0.9599\n"
     ]
    },
    {
     "name": "stderr",
     "output_type": "stream",
     "text": [
      "/opt/homebrew/anaconda3/lib/python3.10/site-packages/keras/src/engine/training.py:3079: UserWarning: You are saving your model as an HDF5 file via `model.save()`. This file format is considered legacy. We recommend using instead the native Keras format, e.g. `model.save('my_model.keras')`.\n",
      "  saving_api.save_model(\n"
     ]
    }
   ],
   "source": [
    "# Define the model architecture\n",
    "model = keras.Sequential([\n",
    "    layers.Conv2D(32, (3, 3), activation='relu', input_shape=(110, 120, 3)),\n",
    "    layers.MaxPooling2D((2, 2)),\n",
    "    layers.Conv2D(64, (3, 3), activation='relu'),\n",
    "    layers.MaxPooling2D((2, 2)),\n",
    "    layers.Flatten(),\n",
    "    layers.Dense(128, activation='relu'),\n",
    "    layers.Dense(num_classes, activation='softmax')  # Adjust num_classes as needed\n",
    "])\n",
    "\n",
    "# Compile the model\n",
    "model.compile(optimizer='adam',\n",
    "              loss='categorical_crossentropy',  # Use appropriate loss function\n",
    "              metrics=['accuracy'])\n",
    "\n",
    "# Load and preprocess your dataset\n",
    "# You can use TensorFlow's `ImageDataGenerator` for data augmentation and preprocessing.\n",
    "\n",
    "# Train the model\n",
    "model.fit(X_train, y_train, epochs=20, validation_data=(X_val, y_val))\n",
    "\n",
    "# Save the trained model\n",
    "model.save('airspeed_model.h5')\n"
   ]
  }
 ],
 "metadata": {
  "kernelspec": {
   "display_name": "base",
   "language": "python",
   "name": "python3"
  },
  "language_info": {
   "codemirror_mode": {
    "name": "ipython",
    "version": 3
   },
   "file_extension": ".py",
   "mimetype": "text/x-python",
   "name": "python",
   "nbconvert_exporter": "python",
   "pygments_lexer": "ipython3",
   "version": "3.10.9"
  },
  "orig_nbformat": 4
 },
 "nbformat": 4,
 "nbformat_minor": 2
}
