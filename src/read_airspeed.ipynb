{
 "cells": [
  {
   "cell_type": "markdown",
   "metadata": {},
   "source": [
    "## Read Airspeed\n",
    "\n",
    "Uses model to open and interpret vertical speed readings\n",
    "\n",
    "TODO: Combine this file back into read_vertical_speed - just make it configurable"
   ]
  },
  {
   "cell_type": "markdown",
   "metadata": {},
   "source": [
    "## Imports"
   ]
  },
  {
   "cell_type": "code",
   "execution_count": null,
   "metadata": {},
   "outputs": [],
   "source": [
    "import cv2\n",
    "import numpy as np\n",
    "import tensorflow as tf"
   ]
  },
  {
   "cell_type": "markdown",
   "metadata": {},
   "source": [
    "## Read Vertical Speed\n",
    "\n",
    "Currently only works on a single file"
   ]
  },
  {
   "cell_type": "code",
   "execution_count": null,
   "metadata": {},
   "outputs": [],
   "source": [
    "# Load the trained model (replace 'model.h5' with the path to your .h5 model file)\n",
    "model = tf.keras.models.load_model('../models/airspeed_model.h5')\n",
    "\n",
    "# Function to preprocess an input image\n",
    "def preprocess_image(image_path):\n",
    "    # Load and preprocess the image\n",
    "    image = cv2.imread(image_path)\n",
    "    image = image / 255.0  # Normalize pixel values to [0, 1]\n",
    "    image = np.expand_dims(image, axis=0)  # Add batch dimension\n",
    "    return image\n",
    "\n",
    "def preprocess_frame(frame):\n",
    "    \n",
    "    frame = frame / 255.0  # Normalize pixel values to [0, 1]\n",
    "    frame = np.expand_dims(frame, axis=0)  # Add batch dimension\n",
    "    return frame\n",
    "\n",
    "\n",
    "\n",
    "# Function to predict the vertical speed\n",
    "def predict_airspeed(image_path):\n",
    "    # Preprocess the input image\n",
    "    preprocessed_image = preprocess_image(image_path)\n",
    "\n",
    "    # Make a prediction using the model\n",
    "    predictions = model.predict(preprocessed_image)\n",
    "\n",
    "    # Convert the prediction to a vertical speed value (you may need to adjust this based on your label encoding)\n",
    "    predicted_speed = np.argmax(predictions, axis=1)  # Assuming one-hot encoding\n",
    "\n",
    "    return predicted_speed[0]\n",
    "\n",
    "# Function to predict the vertical speed\n",
    "def predict_airspeed_frame(frame):\n",
    "    # Preprocess the input image\n",
    "    preprocessed_image = preprocess_frame(frame)\n",
    "\n",
    "    # Make a prediction using the model\n",
    "    predictions = model.predict(preprocessed_image)\n",
    "\n",
    "    # Convert the prediction to a vertical speed value (you may need to adjust this based on your label encoding)\n",
    "    predicted_speed = np.argmax(predictions, axis=1)  # Assuming one-hot encoding\n",
    "\n",
    "    return (predicted_speed[0] * 10)\n"
   ]
  },
  {
   "cell_type": "code",
   "execution_count": null,
   "metadata": {},
   "outputs": [],
   "source": [
    "# Hacky means of making sure we don't go into infinite loop\n",
    "def exit_application():\n",
    "    cv2.destroyAllWindows()\n",
    "    cv2.waitKey(1)\n",
    "    cv2.waitKey(1)\n",
    "    cv2.waitKey(1)"
   ]
  },
  {
   "cell_type": "code",
   "execution_count": null,
   "metadata": {},
   "outputs": [],
   "source": [
    "input_file_path = '../media/input_video/daytime_fixed_A10C_original_demo.mp4'\n",
    "\n",
    "# Coordinates for vertical speed indicator\n",
    "start_x = 750\n",
    "start_y = 770\n",
    "\n",
    "width = 120\n",
    "height = 110\n",
    "\n",
    "overlay_x = 200\n",
    "overlay_y = 200\n",
    "\n",
    "scale_factor = 3\n",
    "\n",
    "cap = cv2.VideoCapture(input_file_path)\n",
    "\n",
    "while True:\n",
    "    ret, frame = cap.read()\n",
    "\n",
    "    if not ret:\n",
    "        break  # Break the loop if no more frames are available\n",
    "\n",
    "    x, y, w, h = (start_x, start_y, width, height)\n",
    "    cropped_frame = frame[y:y+h, x:x+w]\n",
    "\n",
    "    resized_cropped_frame = cv2.resize(cropped_frame, None, fx=scale_factor, fy=scale_factor)\n",
    "\n",
    "    frame[overlay_y:overlay_y+(h*scale_factor), overlay_x:overlay_x+(w*scale_factor)] = resized_cropped_frame\n",
    "\n",
    "    vertical_speed = predict_airspeed_frame(cropped_frame)\n",
    "\n",
    "    print(vertical_speed)\n",
    "\n",
    "    cv2.putText(frame, f'Airspeed: {vertical_speed}', (150, 200), cv2.FONT_HERSHEY_PLAIN, 4.0, (0, 255, 0), 2)\n",
    "\n",
    "\n",
    "    # Display the current frame\n",
    "    cv2.imshow('Frame', frame)\n",
    "\n",
    "    # Wait for user input (e.g., a key press)\n",
    "    key = cv2.waitKey(0)\n",
    "\n",
    "    # Check if the user pressed the 'q' key to exit\n",
    "    if key == ord('q'):\n",
    "        break\n",
    "\n",
    "# Release the video capture object and close all OpenCV windows\n",
    "cap.release()\n",
    "cv2.destroyAllWindows()\n",
    "exit_application()"
   ]
  }
 ],
 "metadata": {
  "kernelspec": {
   "display_name": "base",
   "language": "python",
   "name": "python3"
  },
  "language_info": {
   "codemirror_mode": {
    "name": "ipython",
    "version": 3
   },
   "file_extension": ".py",
   "mimetype": "text/x-python",
   "name": "python",
   "nbconvert_exporter": "python",
   "pygments_lexer": "ipython3",
   "version": "3.10.9"
  },
  "orig_nbformat": 4
 },
 "nbformat": 4,
 "nbformat_minor": 2
}
