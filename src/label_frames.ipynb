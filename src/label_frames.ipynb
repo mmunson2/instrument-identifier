{
 "cells": [
  {
   "cell_type": "markdown",
   "metadata": {},
   "source": [
    "## Label Frames\n",
    "\n",
    "Tool for viewing each frame in a directory and applying a label to it. This is assumed to be a single number (such in the case of labelling an instrument's reading) but could be expanded to apply multiple values.\n"
   ]
  },
  {
   "cell_type": "code",
   "execution_count": 1,
   "metadata": {},
   "outputs": [],
   "source": [
    "import os\n",
    "import cv2\n",
    "import csv"
   ]
  },
  {
   "cell_type": "markdown",
   "metadata": {},
   "source": [
    "## Read / Write to CSV"
   ]
  },
  {
   "cell_type": "code",
   "execution_count": 2,
   "metadata": {},
   "outputs": [],
   "source": [
    "def get_csv_contents(csv_path):\n",
    "\n",
    "    csv_exists = os.path.exists(csv_path)\n",
    "\n",
    "    lines = []\n",
    "\n",
    "    if csv_exists:\n",
    "        with open(csv_path, mode='r', newline='') as csv_file:\n",
    "            for index, line in enumerate(csv_file):\n",
    "\n",
    "                if index == 0:\n",
    "                    continue\n",
    "\n",
    "                frame = line.split(\",\")[0]\n",
    "                label = line.split(\",\")[1]\n",
    "\n",
    "                label = label[:-2]\n",
    "\n",
    "                lines.append({\"frame\": frame, \"label\": label})\n",
    "\n",
    "    return lines\n",
    "\n",
    "\n",
    "LABEL_FIELDS = ['image_path', 'airspeed']\n",
    "\n",
    "def save_csv(filename, labels):\n",
    "\n",
    "    with open(filename, mode='w', newline='') as csvfile:\n",
    "\n",
    "        writer = csv.DictWriter(csvfile, fieldnames=LABEL_FIELDS)\n",
    "\n",
    "        writer.writeheader()\n",
    "\n",
    "        for line in labels:\n",
    "            writer.writerow({LABEL_FIELDS[0]: line['frame'], LABEL_FIELDS[1]: line['label']})"
   ]
  },
  {
   "cell_type": "markdown",
   "metadata": {},
   "source": [
    "## Make Label CSV match files in directory\n",
    "\n",
    "This opens the labels CSV file, then adds any images that are in the image_directory but not in the label frames to the array. Labels are initialized to an empty string"
   ]
  },
  {
   "cell_type": "code",
   "execution_count": 3,
   "metadata": {},
   "outputs": [],
   "source": [
    "def get_labels(image_directory, label_path):\n",
    "\n",
    "    image_files = [f for f in os.listdir(image_directory) if f.endswith('.jpg')]\n",
    "\n",
    "    image_files.sort()\n",
    "\n",
    "    labels = get_csv_contents(label_path)\n",
    "\n",
    "    labelled_images = [im['frame'] for im in labels]\n",
    "\n",
    "    for image in image_files:\n",
    "        if image not in labelled_images:\n",
    "            labels.append({\"frame\": image, \"label\": \"\"})\n",
    "\n",
    "    return labels"
   ]
  },
  {
   "cell_type": "markdown",
   "metadata": {},
   "source": [
    "## Display Frames\n",
    "\n",
    "This has all of the application logic. It could probably be cleaned up a bit"
   ]
  },
  {
   "cell_type": "code",
   "execution_count": 5,
   "metadata": {},
   "outputs": [],
   "source": [
    "# Hacky means of making sure we don't go into infinite loop\n",
    "def exit_application():\n",
    "    cv2.destroyAllWindows()\n",
    "    cv2.waitKey(1)\n",
    "    cv2.waitKey(1)\n",
    "    cv2.waitKey(1)\n",
    "\n",
    "LABEL_INCREMENT = 10\n",
    "\n",
    "def display_frames(image_directory, output_file, labels):\n",
    "\n",
    "    all_images = [im['frame'] for im in labels]\n",
    "    current_index = -1\n",
    "    current_label = 0\n",
    "\n",
    "    while True:\n",
    "\n",
    "        if current_index == -1:\n",
    "            image_path = '../media/utility_frames/instructions.jpg'\n",
    "        else:\n",
    "            image_path = os.path.join(image_directory, all_images[current_index])\n",
    "\n",
    "        if not os.path.exists(image_path):\n",
    "            image_path = '../media/utility_frames/frame_not_found.jpg'\n",
    "\n",
    "        existing_label = labels[current_index]['label']\n",
    "\n",
    "    \n",
    "        # Read the image\n",
    "        image = cv2.imread(image_path)\n",
    "\n",
    "        if current_index >= 0:\n",
    "            # Overlay text information onto the frame\n",
    "            cv2.putText(image, f'F: {current_index + 1} / {len(all_images)}', (10, 50), cv2.FONT_HERSHEY_PLAIN, 1.0, (0, 255, 0), 2)\n",
    "            cv2.putText(image, f'E: {existing_label}', (10, 10), cv2.FONT_HERSHEY_PLAIN, 1.0, (0, 255, 0), 2)\n",
    "            cv2.putText(image, f'R: {current_label}', (10, 30), cv2.FONT_HERSHEY_PLAIN, 1.0, (0, 255, 0), 2)\n",
    "            \n",
    "        cv2.imshow(f'Frame Labeller', image)\n",
    "\n",
    "        # Wait for user input\n",
    "        key = cv2.waitKey(0)\n",
    "\n",
    "        # Spacebar - Save current label and move to next image\n",
    "        if key == ord(' '):  \n",
    "\n",
    "            if current_index >= 0:\n",
    "                labels[current_index]['label'] = current_label\n",
    "\n",
    "                save_csv(output_file, labels)\n",
    "                \n",
    "            if current_index < len(all_images) - 1:\n",
    "                current_index += 1\n",
    "        # 'q' - Exit the application\n",
    "        elif key == ord('q'):\n",
    "            exit_application()\n",
    "            break\n",
    "        # Up Arrow - Increase the label\n",
    "        elif key == 0:\n",
    "            current_label += LABEL_INCREMENT\n",
    "        # Down Arrow - Decrease the label\n",
    "        elif key == 1:\n",
    "            current_label -= LABEL_INCREMENT\n",
    "        # Right Arrow - Skip to next frame without saving\n",
    "        elif key == 3:\n",
    "            if current_index < len(all_images) - 1:\n",
    "                current_index += 1\n",
    "        elif key == 2:\n",
    "            if current_index > -1:\n",
    "                current_index -= 1\n",
    "\n",
    "    exit_application()"
   ]
  },
  {
   "cell_type": "markdown",
   "metadata": {},
   "source": [
    "## Start Frame Labeller"
   ]
  },
  {
   "cell_type": "code",
   "execution_count": 6,
   "metadata": {},
   "outputs": [],
   "source": [
    "image_directory = '../media/night_fixed_A10C_validation_airspeed/'\n",
    "label_file_path = '../image_labels/night_airspeed_validation_labels.csv'\n",
    "\n",
    "labels = get_labels(image_directory, label_file_path)\n",
    "\n",
    "cv2.startWindowThread()\n",
    "\n",
    "display_frames(image_directory, label_file_path, labels)"
   ]
  }
 ],
 "metadata": {
  "kernelspec": {
   "display_name": "base",
   "language": "python",
   "name": "python3"
  },
  "language_info": {
   "codemirror_mode": {
    "name": "ipython",
    "version": 3
   },
   "file_extension": ".py",
   "mimetype": "text/x-python",
   "name": "python",
   "nbconvert_exporter": "python",
   "pygments_lexer": "ipython3",
   "version": "3.10.9"
  },
  "orig_nbformat": 4
 },
 "nbformat": 4,
 "nbformat_minor": 2
}
