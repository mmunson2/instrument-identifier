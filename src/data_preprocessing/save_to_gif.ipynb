{
 "cells": [
  {
   "cell_type": "markdown",
   "metadata": {},
   "source": [
    "## Save To Gif\n",
    "\n",
    "Helpful script for creating gifs from the giant directories of frames I've used for training."
   ]
  },
  {
   "cell_type": "code",
   "execution_count": 2,
   "metadata": {},
   "outputs": [],
   "source": [
    "import cv2\n",
    "import imageio\n",
    "import os"
   ]
  },
  {
   "cell_type": "code",
   "execution_count": 7,
   "metadata": {},
   "outputs": [
    {
     "name": "stdout",
     "output_type": "stream",
     "text": [
      "GIF saved at: output.gif\n"
     ]
    }
   ],
   "source": [
    "image_dir = '../../media/vertical_speed_evaluation_demo/'\n",
    "\n",
    "image_files = [os.path.join(image_dir, f) for f in os.listdir(image_dir) if f.endswith(('.png', '.jpg', '.jpeg'))]\n",
    "\n",
    "image_files.sort()\n",
    "\n",
    "# Adjust this to set the start/end and number of frames to skip\n",
    "image_files = image_files[200:1500:5]\n",
    "\n",
    "# Adjust this to downsize the images in the gif\n",
    "resize_scale = 0.5\n",
    "\n",
    "# OpenCV doesn't support GIFs directly, so we'll use imageio\n",
    "images = []\n",
    "for file in image_files:\n",
    "    image = cv2.imread(file)  # Read the image using OpenCV\n",
    "    \n",
    "    # Resize the image to a fraction of its original size\n",
    "    resized_image = image\n",
    "    resized_image = cv2.resize(image, (0, 0), fx=resize_scale, fy=resize_scale) \n",
    "    \n",
    "    # Convert BGR to RGB and append to the list of images\n",
    "    images.append(cv2.cvtColor(resized_image, cv2.COLOR_BGR2RGB))\n",
    "\n",
    "# Save the images as a GIF\n",
    "output_gif_path = 'output.gif'\n",
    "imageio.mimsave(output_gif_path, images)\n",
    "\n",
    "print(f'GIF saved at: {output_gif_path}')"
   ]
  }
 ],
 "metadata": {
  "kernelspec": {
   "display_name": "base",
   "language": "python",
   "name": "python3"
  },
  "language_info": {
   "codemirror_mode": {
    "name": "ipython",
    "version": 3
   },
   "file_extension": ".py",
   "mimetype": "text/x-python",
   "name": "python",
   "nbconvert_exporter": "python",
   "pygments_lexer": "ipython3",
   "version": "3.10.9"
  }
 },
 "nbformat": 4,
 "nbformat_minor": 2
}
