{
 "cells": [
  {
   "cell_type": "markdown",
   "metadata": {},
   "source": [
    "## Extract Frames\n",
    "\n",
    "This is a tool used to save all of the frames in a video as separate images. These can then be labelled and fed into a machine learning model."
   ]
  },
  {
   "cell_type": "code",
   "execution_count": 4,
   "metadata": {},
   "outputs": [],
   "source": [
    "import cv2\n",
    "import os"
   ]
  },
  {
   "cell_type": "markdown",
   "metadata": {},
   "source": [
    "## Extract Frames"
   ]
  },
  {
   "cell_type": "code",
   "execution_count": 5,
   "metadata": {},
   "outputs": [],
   "source": [
    "def extract_frames(video_path, frame_directory, file_prefix, crop_dimensions=None, limit=None):\n",
    "\n",
    "    # Open the video file\n",
    "    cap = cv2.VideoCapture(video_path)\n",
    "\n",
    "    # Create a directory to store extracted frames\n",
    "    os.makedirs(frame_directory, exist_ok=True)\n",
    "\n",
    "    frame_count = 0\n",
    "\n",
    "    while True:\n",
    "        ret, frame = cap.read()\n",
    "        if not ret:\n",
    "            break\n",
    "\n",
    "        if crop_dimensions:\n",
    "            # Crop the frame to focus on the vertical speed indicator\n",
    "            x, y, w, h = (crop_dimensions['x'], crop_dimensions['y'], crop_dimensions['width'], crop_dimensions['height']) \n",
    "            cropped_frame = frame[y:y+h, x:x+w]\n",
    "        else:\n",
    "            cropped_frame = frame\n",
    "\n",
    "        # Save the cropped frame as an image\n",
    "        frame_filename = f'{frame_directory}/{file_prefix}_{frame_count:04d}.jpg'\n",
    "        cv2.imwrite(frame_filename, cropped_frame)\n",
    "\n",
    "        frame_count += 1\n",
    "\n",
    "        if limit and frame_count >= limit:\n",
    "            break\n",
    "\n",
    "    cap.release()\n",
    "\n",
    "    print(\"Done!\")"
   ]
  },
  {
   "cell_type": "markdown",
   "metadata": {},
   "source": [
    "## Extract Vertical Speed Indicator"
   ]
  },
  {
   "cell_type": "code",
   "execution_count": 6,
   "metadata": {},
   "outputs": [
    {
     "name": "stdout",
     "output_type": "stream",
     "text": [
      "Done!\n"
     ]
    }
   ],
   "source": [
    "input_file_path = '../../media/input_video/static_camera/night_A10C.mp4'\n",
    "\n",
    "start_x = 1062\n",
    "start_y = 650\n",
    "\n",
    "width = 125\n",
    "height = 120\n",
    "\n",
    "file_prefix = 'night_fixed_A10C_validation_VS'\n",
    "\n",
    "frame_directory = '../../media/night_fixed_A10C_validation_VS/'\n",
    "\n",
    "crop_dimensions = {\"x\": start_x, \"y\": start_y, \"width\": width, \"height\": height}\n",
    "limit = None\n",
    "\n",
    "extract_frames(input_file_path, frame_directory, file_prefix, crop_dimensions, limit)"
   ]
  },
  {
   "cell_type": "markdown",
   "metadata": {},
   "source": [
    "## Extract Airspeed Indicator"
   ]
  },
  {
   "cell_type": "code",
   "execution_count": 11,
   "metadata": {},
   "outputs": [
    {
     "name": "stdout",
     "output_type": "stream",
     "text": [
      "Done!\n"
     ]
    }
   ],
   "source": [
    "input_file_path = '../../media/input_video/static_camera/airspeed_nighttime_validation2.mp4'\n",
    "\n",
    "start_x = 750\n",
    "start_y = 770\n",
    "\n",
    "width = 120\n",
    "height = 110\n",
    "\n",
    "file_prefix = 'night_fixed_A10C_additional_validation_airspeed'\n",
    "\n",
    "frame_directory = '../../media/airspeed_nightime_validation_2/'\n",
    "\n",
    "crop_dimensions = {\"x\": start_x, \"y\": start_y, \"width\": width, \"height\": height}\n",
    "limit = None\n",
    "\n",
    "extract_frames(input_file_path, frame_directory, file_prefix, crop_dimensions, limit)"
   ]
  },
  {
   "cell_type": "markdown",
   "metadata": {},
   "source": [
    "## Extract Entire Cockpit"
   ]
  },
  {
   "cell_type": "code",
   "execution_count": 6,
   "metadata": {},
   "outputs": [
    {
     "name": "stdout",
     "output_type": "stream",
     "text": [
      "Done!\n"
     ]
    }
   ],
   "source": [
    "input_file_path = '../../media/input_video/Vertical_Speed_Evaluation.mov'\n",
    "\n",
    "file_prefix = 'vertical_speed_evaluation_demo'\n",
    "\n",
    "frame_directory = '../../media/vertical_speed_evaluation_demo/'\n",
    "\n",
    "crop_dimensions = None\n",
    "limit = None\n",
    "\n",
    "extract_frames(input_file_path, frame_directory, file_prefix, crop_dimensions, limit)"
   ]
  },
  {
   "cell_type": "markdown",
   "metadata": {},
   "source": [
    "## Extract Attitude Indicator"
   ]
  },
  {
   "cell_type": "code",
   "execution_count": 6,
   "metadata": {},
   "outputs": [
    {
     "name": "stdout",
     "output_type": "stream",
     "text": [
      "Done!\n"
     ]
    }
   ],
   "source": [
    "input_file_path = '../../media/input_video/static_camera/attitude_validation_1.mp4'\n",
    "\n",
    "start_x = 860\n",
    "start_y = 710\n",
    "\n",
    "width = 205\n",
    "height = 200\n",
    "\n",
    "file_prefix = 'attitude_validation_1'\n",
    "\n",
    "frame_directory = '../../media/attitude_validation_1/'\n",
    "\n",
    "crop_dimensions = {\"x\": start_x, \"y\": start_y, \"width\": width, \"height\": height}\n",
    "limit = None\n",
    "\n",
    "extract_frames(input_file_path, frame_directory, file_prefix, crop_dimensions, limit)"
   ]
  }
 ],
 "metadata": {
  "kernelspec": {
   "display_name": "base",
   "language": "python",
   "name": "python3"
  },
  "language_info": {
   "codemirror_mode": {
    "name": "ipython",
    "version": 3
   },
   "file_extension": ".py",
   "mimetype": "text/x-python",
   "name": "python",
   "nbconvert_exporter": "python",
   "pygments_lexer": "ipython3",
   "version": "3.10.9"
  },
  "orig_nbformat": 4
 },
 "nbformat": 4,
 "nbformat_minor": 2
}
