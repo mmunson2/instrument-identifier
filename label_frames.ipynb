{
 "cells": [
  {
   "cell_type": "markdown",
   "metadata": {},
   "source": [
    "## Label Frames\n",
    "\n",
    "Tool for viewing each frame in a directory and applying a label to it. This is assumed to be a single number (such in the case of labelling an instrument's reading) but could be expanded to apply multiple values.\n",
    "\n",
    "TODO: Don't just append to the readings file - allow user to scroll through existing readings, overwrite a new value if necessary."
   ]
  },
  {
   "cell_type": "code",
   "execution_count": 4,
   "metadata": {},
   "outputs": [],
   "source": [
    "import os\n",
    "import cv2\n",
    "import csv"
   ]
  },
  {
   "cell_type": "code",
   "execution_count": 5,
   "metadata": {},
   "outputs": [],
   "source": [
    "# Hacky means of making sure we don't go into infinite loop\n",
    "def exit_application():\n",
    "    cv2.destroyAllWindows()\n",
    "    cv2.waitKey(1)\n",
    "    cv2.waitKey(1)\n",
    "    cv2.waitKey(1)"
   ]
  },
  {
   "cell_type": "markdown",
   "metadata": {},
   "source": [
    "## Start Labelling Application"
   ]
  },
  {
   "cell_type": "code",
   "execution_count": 7,
   "metadata": {},
   "outputs": [
    {
     "name": "stdout",
     "output_type": "stream",
     "text": [
      "Labeling process completed.\n"
     ]
    }
   ],
   "source": [
    "# Set the directory containing your images\n",
    "image_directory = 'vertical_speed_frames'\n",
    "\n",
    "# Create a CSV file for labeling\n",
    "csv_file = 'labels.csv'\n",
    "csv_exists = os.path.exists(csv_file)\n",
    "\n",
    "# Initialize label and image index\n",
    "current_label = 0\n",
    "current_image_idx = 0\n",
    "\n",
    "# Load the list of image files in the directory\n",
    "image_files = [f for f in os.listdir(image_directory) if f.endswith('.jpg')]\n",
    "\n",
    "image_files.sort()\n",
    "\n",
    "# Create/Open the CSV file for writing\n",
    "with open(csv_file, mode='a', newline='') as csvfile:\n",
    "    fieldnames = ['image_path', 'vertical_speed']\n",
    "    writer = csv.DictWriter(csvfile, fieldnames=fieldnames)\n",
    "    \n",
    "    if not csv_exists:\n",
    "        writer.writeheader()\n",
    "\n",
    "    while current_image_idx < len(image_files):\n",
    "        image_filename = image_files[current_image_idx]\n",
    "        image_path = os.path.join(image_directory, image_filename)\n",
    "        \n",
    "        cv2.startWindowThread()\n",
    "        \n",
    "        # Read the image\n",
    "        image = cv2.imread(image_path)\n",
    "        \n",
    "\n",
    "        # Display the image with the current label\n",
    "        cv2.putText(image, f'F: {current_image_idx}', (10, 50), cv2.FONT_HERSHEY_PLAIN, 1.0, (0, 255, 0), 2)\n",
    "        cv2.putText(image, f'R: {current_label}', (10, 30), cv2.FONT_HERSHEY_PLAIN, 1.0, (0, 255, 0), 2)\n",
    "        cv2.imshow('Image', image)\n",
    "\n",
    "        # Wait for user input\n",
    "        key = cv2.waitKey(0)\n",
    "\n",
    "        if key == ord(' '):  # Save label and move to the next image\n",
    "            writer.writerow({'image_path': image_filename, 'vertical_speed': current_label})\n",
    "            current_image_idx += 1\n",
    "        elif key == ord('q'):  # Quit the labeling process\n",
    "            \n",
    "            exit_application()\n",
    "            break\n",
    "        elif key == 0:  # Up arrow key (increase label)\n",
    "            current_label += 0.25\n",
    "        elif key == 1:  # Down arrow key (decrease label)\n",
    "            current_label -= 0.25\n",
    "\n",
    "    exit_application()\n",
    "\n",
    "print(\"Labeling process completed.\")\n"
   ]
  }
 ],
 "metadata": {
  "kernelspec": {
   "display_name": "base",
   "language": "python",
   "name": "python3"
  },
  "language_info": {
   "codemirror_mode": {
    "name": "ipython",
    "version": 3
   },
   "file_extension": ".py",
   "mimetype": "text/x-python",
   "name": "python",
   "nbconvert_exporter": "python",
   "pygments_lexer": "ipython3",
   "version": "3.10.9"
  },
  "orig_nbformat": 4
 },
 "nbformat": 4,
 "nbformat_minor": 2
}
